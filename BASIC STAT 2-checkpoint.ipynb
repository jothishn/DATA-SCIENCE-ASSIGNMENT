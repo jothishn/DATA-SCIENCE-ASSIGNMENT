{
 "cells": [
  {
   "cell_type": "markdown",
   "id": "134ad7b8",
   "metadata": {},
   "source": [
    "BASIC STATISTICS SET -01 #QUESTION NO.1"
   ]
  },
  {
   "cell_type": "code",
   "execution_count": 2,
   "id": "47f708f1",
   "metadata": {},
   "outputs": [],
   "source": [
    "import pandas as pd\n",
    "import numpy as np\n",
    "import matplotlib.pyplot as plt"
   ]
  },
  {
   "cell_type": "code",
   "execution_count": 3,
   "id": "ecece480",
   "metadata": {},
   "outputs": [
    {
     "data": {
      "text/plain": [
       "array([24.23, 25.53, 25.41, 24.14, 29.62, 28.25, 25.81, 24.39, 40.26,\n",
       "       32.95, 91.36, 25.99, 39.42, 26.71, 35.  ])"
      ]
     },
     "execution_count": 3,
     "metadata": {},
     "output_type": "execute_result"
    }
   ],
   "source": [
    "X=np.array([24.23,25.53,25.41,24.14,29.62,28.25,25.81,24.39,40.26,32.95,91.36,25.99,39.42,26.71,35.00])\n",
    "X"
   ]
  },
  {
   "cell_type": "code",
   "execution_count": 4,
   "id": "9e359b49",
   "metadata": {},
   "outputs": [
    {
     "data": {
      "text/plain": [
       "33.271"
      ]
     },
     "execution_count": 4,
     "metadata": {},
     "output_type": "execute_result"
    }
   ],
   "source": [
    "round(X.mean(),3)"
   ]
  },
  {
   "cell_type": "code",
   "execution_count": 5,
   "id": "d228faed",
   "metadata": {},
   "outputs": [
    {
     "data": {
      "text/plain": [
       "16.371"
      ]
     },
     "execution_count": 5,
     "metadata": {},
     "output_type": "execute_result"
    }
   ],
   "source": [
    "round(X.std(),3)"
   ]
  },
  {
   "cell_type": "code",
   "execution_count": 6,
   "id": "f640760e",
   "metadata": {},
   "outputs": [
    {
     "data": {
      "text/plain": [
       "268.004"
      ]
     },
     "execution_count": 6,
     "metadata": {},
     "output_type": "execute_result"
    }
   ],
   "source": [
    "round(X.var(),3)"
   ]
  },
  {
   "cell_type": "code",
   "execution_count": 7,
   "id": "4d7ed5b6",
   "metadata": {},
   "outputs": [
    {
     "data": {
      "text/plain": [
       "Text(0, 0.5, 'Measure X')"
      ]
     },
     "execution_count": 7,
     "metadata": {},
     "output_type": "execute_result"
    },
    {
     "data": {
      "image/png": "[encoded data removed]",
      "text/plain": [
       "<Figure size 640x480 with 1 Axes>"
      ]
     },
     "metadata": {},
     "output_type": "display_data"
    }
   ],
   "source": [
    "plt.boxplot(X,vert=False)\n",
    "plt.title(\"Boxplot\")\n",
    "plt.ylabel(\"Measure X\")"
   ]
  },
  {
   "cell_type": "code",
   "execution_count": 8,
   "id": "dc0050ec",
   "metadata": {},
   "outputs": [
    {
     "data": {
      "text/plain": [
       "(array([10.,  2.,  2.,  0.,  0.,  0.,  0.,  0.,  0.,  1.]),\n",
       " array([24.14 , 30.862, 37.584, 44.306, 51.028, 57.75 , 64.472, 71.194,\n",
       "        77.916, 84.638, 91.36 ]),\n",
       " <BarContainer object of 10 artists>)"
      ]
     },
     "execution_count": 8,
     "metadata": {},
     "output_type": "execute_result"
    },
    {
     "data": {
      "image/png": "[encoded data removed]",
      "text/plain": [
       "<Figure size 640x480 with 1 Axes>"
      ]
     },
     "metadata": {},
     "output_type": "display_data"
    }
   ],
   "source": [
    "plt.hist(X)"
   ]
  },
  {
   "cell_type": "markdown",
   "id": "2ae67a4a",
   "metadata": {},
   "source": [
    "BASIC STATISTICS SET -02 #QUESTION NO.2"
   ]
  },
  {
   "cell_type": "code",
   "execution_count": 9,
   "id": "c4809559",
   "metadata": {},
   "outputs": [],
   "source": [
    "from scipy import stats\n",
    "from scipy.stats import norm\n"
   ]
  },
  {
   "cell_type": "code",
   "execution_count": 10,
   "id": "75a1528a",
   "metadata": {},
   "outputs": [
    {
     "data": {
      "text/plain": [
       "0.15865525393145707"
      ]
     },
     "execution_count": 10,
     "metadata": {},
     "output_type": "execute_result"
    }
   ],
   "source": [
    "1-stats.norm.cdf(44,loc=38,scale=6)"
   ]
  },
  {
   "cell_type": "code",
   "execution_count": 11,
   "id": "c34c814c",
   "metadata": {},
   "outputs": [
    {
     "data": {
      "text/plain": [
       "0.3413447460685429"
      ]
     },
     "execution_count": 11,
     "metadata": {},
     "output_type": "execute_result"
    }
   ],
   "source": [
    "stats.norm.cdf(44,38,6)-stats.norm.cdf(38,38,6)"
   ]
  },
  {
   "cell_type": "code",
   "execution_count": 12,
   "id": "0f443bed",
   "metadata": {},
   "outputs": [
    {
     "data": {
      "text/plain": [
       "0.09121121972586788"
      ]
     },
     "execution_count": 12,
     "metadata": {},
     "output_type": "execute_result"
    }
   ],
   "source": [
    "stats.norm.cdf(30,38,6)"
   ]
  },
  {
   "cell_type": "code",
   "execution_count": 13,
   "id": "2da5fcde",
   "metadata": {},
   "outputs": [
    {
     "data": {
      "text/plain": [
       "36.484487890347154"
      ]
     },
     "execution_count": 13,
     "metadata": {},
     "output_type": "execute_result"
    }
   ],
   "source": [
    "400*stats.norm.cdf(30,38,6)"
   ]
  },
  {
   "cell_type": "code",
   "execution_count": 14,
   "id": "9e8e439b",
   "metadata": {},
   "outputs": [],
   "source": [
    "#STATEMENT A IS FALSE STATEMENT B IS TRUE."
   ]
  },
  {
   "cell_type": "code",
   "execution_count": 15,
   "id": "ee04b2e6",
   "metadata": {},
   "outputs": [],
   "source": [
    "#QUESTION NO.3"
   ]
  },
  {
   "cell_type": "code",
   "execution_count": 16,
   "id": "05b67a3d",
   "metadata": {},
   "outputs": [],
   "source": [
    "X1= np.array([1,2,3])"
   ]
  },
  {
   "cell_type": "code",
   "execution_count": 17,
   "id": "acd6d989",
   "metadata": {},
   "outputs": [
    {
     "data": {
      "text/plain": [
       "2.0"
      ]
     },
     "execution_count": 17,
     "metadata": {},
     "output_type": "execute_result"
    }
   ],
   "source": [
    "X1.mean()"
   ]
  },
  {
   "cell_type": "code",
   "execution_count": 18,
   "id": "d7202f20",
   "metadata": {},
   "outputs": [
    {
     "data": {
      "text/plain": [
       "0.816496580927726"
      ]
     },
     "execution_count": 18,
     "metadata": {},
     "output_type": "execute_result"
    }
   ],
   "source": [
    "X1.std()"
   ]
  },
  {
   "cell_type": "code",
   "execution_count": 19,
   "id": "1acdb662",
   "metadata": {},
   "outputs": [
    {
     "data": {
      "text/plain": [
       "0.6666666666666666"
      ]
     },
     "execution_count": 19,
     "metadata": {},
     "output_type": "execute_result"
    }
   ],
   "source": [
    "X1.std()**2"
   ]
  },
  {
   "cell_type": "code",
   "execution_count": 20,
   "id": "d1419d09",
   "metadata": {},
   "outputs": [],
   "source": [
    "newX1=2*X1"
   ]
  },
  {
   "cell_type": "code",
   "execution_count": 21,
   "id": "a7fc4d5a",
   "metadata": {},
   "outputs": [
    {
     "data": {
      "text/plain": [
       "1.632993161855452"
      ]
     },
     "execution_count": 21,
     "metadata": {},
     "output_type": "execute_result"
    }
   ],
   "source": [
    "newX1.std()"
   ]
  },
  {
   "cell_type": "code",
   "execution_count": 22,
   "id": "2553b27a",
   "metadata": {},
   "outputs": [
    {
     "data": {
      "text/plain": [
       "2.0"
      ]
     },
     "execution_count": 22,
     "metadata": {},
     "output_type": "execute_result"
    }
   ],
   "source": [
    "newX1.std()/X1.std()"
   ]
  },
  {
   "cell_type": "code",
   "execution_count": 23,
   "id": "d2a62b3e",
   "metadata": {},
   "outputs": [
    {
     "data": {
      "text/plain": [
       "2.0"
      ]
     },
     "execution_count": 23,
     "metadata": {},
     "output_type": "execute_result"
    }
   ],
   "source": [
    "newX1.mean()/X1.mean()"
   ]
  },
  {
   "cell_type": "code",
   "execution_count": 24,
   "id": "87511071",
   "metadata": {},
   "outputs": [
    {
     "data": {
      "text/plain": [
       "4.0"
      ]
     },
     "execution_count": 24,
     "metadata": {},
     "output_type": "execute_result"
    }
   ],
   "source": [
    "newX1.std()**2/X1.std()**2"
   ]
  },
  {
   "cell_type": "code",
   "execution_count": 27,
   "id": "61b72943",
   "metadata": {},
   "outputs": [],
   "source": [
    "import matplotlib.pyplot as plt\n",
    "import seaborn as sns"
   ]
  },
  {
   "cell_type": "code",
   "execution_count": 28,
   "id": "d491f743",
   "metadata": {},
   "outputs": [
    {
     "data": {
      "image/png": "[encoded data removed]",
      "text/plain": [
       "<Figure size 640x480 with 1 Axes>"
      ]
     },
     "metadata": {},
     "output_type": "display_data"
    }
   ],
   "source": [
    "sns.distplot(X1)\n",
    "import warnings\n",
    "warnings.filterwarnings('ignore')\n"
   ]
  },
  {
   "cell_type": "code",
   "execution_count": 29,
   "id": "b56c328e",
   "metadata": {},
   "outputs": [
    {
     "data": {
      "text/plain": [
       "<AxesSubplot:ylabel='Density'>"
      ]
     },
     "execution_count": 29,
     "metadata": {},
     "output_type": "execute_result"
    },
    {
     "data": {
      "image/png": "[encoded data removed]",
      "text/plain": [
       "<Figure size 640x480 with 1 Axes>"
      ]
     },
     "metadata": {},
     "output_type": "display_data"
    }
   ],
   "source": [
    "sns.distplot(newX1)"
   ]
  },
  {
   "cell_type": "code",
   "execution_count": 30,
   "id": "5c0902f3",
   "metadata": {},
   "outputs": [],
   "source": [
    "X2= np.array([1,2,3])"
   ]
  },
  {
   "cell_type": "code",
   "execution_count": 31,
   "id": "6128ea37",
   "metadata": {},
   "outputs": [
    {
     "data": {
      "text/plain": [
       "2.0"
      ]
     },
     "execution_count": 31,
     "metadata": {},
     "output_type": "execute_result"
    }
   ],
   "source": [
    "X2.mean()"
   ]
  },
  {
   "cell_type": "code",
   "execution_count": 32,
   "id": "a23b9eec",
   "metadata": {},
   "outputs": [
    {
     "data": {
      "text/plain": [
       "0.816496580927726"
      ]
     },
     "execution_count": 32,
     "metadata": {},
     "output_type": "execute_result"
    }
   ],
   "source": [
    "X2.std()"
   ]
  },
  {
   "cell_type": "code",
   "execution_count": 33,
   "id": "49ee458c",
   "metadata": {},
   "outputs": [],
   "source": [
    "#QUESTION NO.4"
   ]
  },
  {
   "cell_type": "code",
   "execution_count": 34,
   "id": "a474aa53",
   "metadata": {},
   "outputs": [],
   "source": [
    "from scipy import stats\n",
    "from scipy.stats import norm"
   ]
  },
  {
   "cell_type": "code",
   "execution_count": 35,
   "id": "715a18fd",
   "metadata": {},
   "outputs": [
    {
     "data": {
      "text/plain": [
       "(48.48341392902199, 151.516586070978)"
      ]
     },
     "execution_count": 35,
     "metadata": {},
     "output_type": "execute_result"
    }
   ],
   "source": [
    "stats.norm.interval(0.99,100,20)"
   ]
  },
  {
   "cell_type": "code",
   "execution_count": 36,
   "id": "cc622497",
   "metadata": {},
   "outputs": [
    {
     "data": {
      "text/plain": [
       "-2.575829303548901"
      ]
     },
     "execution_count": 36,
     "metadata": {},
     "output_type": "execute_result"
    }
   ],
   "source": [
    "stats.norm.ppf(0.005)"
   ]
  },
  {
   "cell_type": "code",
   "execution_count": 37,
   "id": "4975ab98",
   "metadata": {},
   "outputs": [
    {
     "data": {
      "text/plain": [
       "2.5758293035489004"
      ]
     },
     "execution_count": 37,
     "metadata": {},
     "output_type": "execute_result"
    }
   ],
   "source": [
    "stats.norm.ppf(0.995)"
   ]
  },
  {
   "cell_type": "code",
   "execution_count": 38,
   "id": "7151c068",
   "metadata": {},
   "outputs": [],
   "source": [
    "#QUESTION NO.5"
   ]
  },
  {
   "cell_type": "code",
   "execution_count": 39,
   "id": "c0361bdd",
   "metadata": {},
   "outputs": [],
   "source": [
    "import numpy as np\n",
    "from scipy import stats\n",
    "from scipy.stats import norm"
   ]
  },
  {
   "cell_type": "code",
   "execution_count": 40,
   "id": "29cdffdd",
   "metadata": {},
   "outputs": [
    {
     "name": "stdout",
     "output_type": "stream",
     "text": [
      "Mean Profit is Rs 540 Million\n"
     ]
    }
   ],
   "source": [
    "Mean = 5+7\n",
    "print('Mean Profit is Rs', Mean*45,'Million')"
   ]
  },
  {
   "cell_type": "code",
   "execution_count": 41,
   "id": "15fa57d8",
   "metadata": {},
   "outputs": [
    {
     "name": "stdout",
     "output_type": "stream",
     "text": [
      "Standard Deviation is Rs 225.0 Million\n"
     ]
    }
   ],
   "source": [
    "SD = np.sqrt((9)+(16))\n",
    "print('Standard Deviation is Rs', SD*45, 'Million')"
   ]
  },
  {
   "cell_type": "code",
   "execution_count": 42,
   "id": "26cc2f07",
   "metadata": {},
   "outputs": [
    {
     "name": "stdout",
     "output_type": "stream",
     "text": [
      "Range is Rs (99.00810347848784, 980.9918965215122) in Millions\n"
     ]
    }
   ],
   "source": [
    "print('Range is Rs',(stats.norm.interval(0.95,540,225)),'in Millions')"
   ]
  },
  {
   "cell_type": "code",
   "execution_count": 43,
   "id": "953ca6bc",
   "metadata": {},
   "outputs": [
    {
     "name": "stdout",
     "output_type": "stream",
     "text": [
      "5th percentile of profit (in Million Rupees) is 170.0\n"
     ]
    }
   ],
   "source": [
    "X= 540+(-1.645)*(225)\n",
    "print('5th percentile of profit (in Million Rupees) is',np.round(X,))"
   ]
  },
  {
   "cell_type": "code",
   "execution_count": 44,
   "id": "45b67c55",
   "metadata": {},
   "outputs": [
    {
     "data": {
      "text/plain": [
       "0.0477903522728147"
      ]
     },
     "execution_count": 44,
     "metadata": {},
     "output_type": "execute_result"
    }
   ],
   "source": [
    "stats.norm.cdf(0,5,3)"
   ]
  },
  {
   "cell_type": "code",
   "execution_count": 45,
   "id": "c57249fb",
   "metadata": {},
   "outputs": [
    {
     "data": {
      "text/plain": [
       "0.040059156863817086"
      ]
     },
     "execution_count": 45,
     "metadata": {},
     "output_type": "execute_result"
    }
   ],
   "source": [
    "stats.norm.cdf(0,7,4)"
   ]
  },
  {
   "cell_type": "markdown",
   "id": "2b11730d",
   "metadata": {},
   "source": [
    "BASIC STATISTICS SET NO-03 "
   ]
  },
  {
   "cell_type": "code",
   "execution_count": 46,
   "id": "cdff2f06",
   "metadata": {},
   "outputs": [],
   "source": [
    "#QUESTION NO.4"
   ]
  },
  {
   "cell_type": "code",
   "execution_count": 47,
   "id": "5da8395d",
   "metadata": {},
   "outputs": [
    {
     "data": {
      "text/plain": [
       "0.5"
      ]
     },
     "execution_count": 47,
     "metadata": {},
     "output_type": "execute_result"
    }
   ],
   "source": [
    "from scipy import stats\n",
    "stats.norm.cdf(0)"
   ]
  },
  {
   "cell_type": "code",
   "execution_count": 48,
   "id": "4a5df234",
   "metadata": {},
   "outputs": [],
   "source": [
    "#QUESTION NO.5"
   ]
  },
  {
   "cell_type": "code",
   "execution_count": 49,
   "id": "c778b382",
   "metadata": {},
   "outputs": [
    {
     "data": {
      "text/plain": [
       "0.6554003727810325"
      ]
     },
     "execution_count": 49,
     "metadata": {},
     "output_type": "execute_result"
    }
   ],
   "source": [
    "stats.t.cdf(5,1999,loc=4.6)"
   ]
  },
  {
   "cell_type": "code",
   "execution_count": 50,
   "id": "099bbc9b",
   "metadata": {},
   "outputs": [],
   "source": [
    "# so P(Z<5) is 65.54% thus microsoft can conclude that mozilla has less than 5% share of market."
   ]
  },
  {
   "cell_type": "code",
   "execution_count": 51,
   "id": "062c6130",
   "metadata": {},
   "outputs": [
    {
     "data": {
      "text/plain": [
       "0.6554217416103243"
      ]
     },
     "execution_count": 51,
     "metadata": {},
     "output_type": "execute_result"
    }
   ],
   "source": [
    "stats.norm.cdf(5,loc=4.6)"
   ]
  },
  {
   "cell_type": "code",
   "execution_count": 52,
   "id": "81ee7328",
   "metadata": {},
   "outputs": [],
   "source": [
    "# so P(Z<5) is 65.54% thus microsoft can conclude that mozilla has less than 5% share of market."
   ]
  },
  {
   "cell_type": "code",
   "execution_count": 53,
   "id": "8822c226",
   "metadata": {},
   "outputs": [],
   "source": [
    "#QUESTION NO.7"
   ]
  },
  {
   "cell_type": "code",
   "execution_count": 54,
   "id": "209e9e13",
   "metadata": {},
   "outputs": [
    {
     "data": {
      "text/plain": [
       "(-1.959963984540054, 1.959963984540054)"
      ]
     },
     "execution_count": 54,
     "metadata": {},
     "output_type": "execute_result"
    }
   ],
   "source": [
    "stats.norm.interval(0.95)"
   ]
  },
  {
   "cell_type": "code",
   "execution_count": 55,
   "id": "8caed72b",
   "metadata": {},
   "outputs": [
    {
     "data": {
      "text/plain": [
       "(-2.2281388519649385, 2.2281388519649385)"
      ]
     },
     "execution_count": 55,
     "metadata": {},
     "output_type": "execute_result"
    }
   ],
   "source": [
    "stats.t.interval(0.95,10)"
   ]
  },
  {
   "cell_type": "markdown",
   "id": "cea36dc4",
   "metadata": {},
   "source": [
    "Z interval is shorter if we have samples less than 30 and the interval start increasing\n",
    "and becomes equal for both the distributions for the larger samples."
   ]
  },
  {
   "cell_type": "code",
   "execution_count": 57,
   "id": "6037bde0",
   "metadata": {},
   "outputs": [],
   "source": [
    "#QUESTION NO.8"
   ]
  },
  {
   "cell_type": "code",
   "execution_count": 58,
   "id": "9a7606bf",
   "metadata": {},
   "outputs": [
    {
     "data": {
      "text/plain": [
       "(-1.959963984540054, 1.959963984540054)"
      ]
     },
     "execution_count": 58,
     "metadata": {},
     "output_type": "execute_result"
    }
   ],
   "source": [
    "stats.norm.interval(0.95)"
   ]
  },
  {
   "cell_type": "code",
   "execution_count": 59,
   "id": "98981d98",
   "metadata": {},
   "outputs": [
    {
     "data": {
      "text/plain": [
       "(-2.3263478740408408, 2.3263478740408408)"
      ]
     },
     "execution_count": 59,
     "metadata": {},
     "output_type": "execute_result"
    }
   ],
   "source": [
    "stats.norm.interval(0.98)"
   ]
  },
  {
   "cell_type": "markdown",
   "id": "d9fa7168",
   "metadata": {},
   "source": [
    "BASIC STATISTICS SET NO - 04 "
   ]
  },
  {
   "cell_type": "code",
   "execution_count": 60,
   "id": "c233786e",
   "metadata": {},
   "outputs": [],
   "source": [
    "#QUESTION NO.3"
   ]
  },
  {
   "cell_type": "code",
   "execution_count": 61,
   "id": "0bf59df0",
   "metadata": {},
   "outputs": [
    {
     "data": {
      "text/plain": [
       "0.2112995473337107"
      ]
     },
     "execution_count": 61,
     "metadata": {},
     "output_type": "execute_result"
    }
   ],
   "source": [
    "1-(stats.norm.cdf(55,loc=50,scale=40/100**0.5)-stats.norm.cdf(45,loc=50,scale=40/100**0.5))"
   ]
  },
  {
   "cell_type": "code",
   "execution_count": 62,
   "id": "4e887654",
   "metadata": {},
   "outputs": [
    {
     "data": {
      "text/plain": [
       "0.2142463375683865"
      ]
     },
     "execution_count": 62,
     "metadata": {},
     "output_type": "execute_result"
    }
   ],
   "source": [
    "1-stats.t.cdf(55,99,loc=50,scale=40/100**0.5)+stats.t.cdf(45,99,loc=50,scale=40/100**0.5)"
   ]
  },
  {
   "cell_type": "code",
   "execution_count": 63,
   "id": "0d2f95f7",
   "metadata": {},
   "outputs": [],
   "source": [
    "# There is 21.42% probability that there will be investigation in any given week."
   ]
  },
  {
   "cell_type": "code",
   "execution_count": 64,
   "id": "0ae10a49",
   "metadata": {},
   "outputs": [],
   "source": [
    "#QUESTION NO.4"
   ]
  },
  {
   "cell_type": "code",
   "execution_count": 65,
   "id": "f25fafeb",
   "metadata": {},
   "outputs": [
    {
     "data": {
      "text/plain": [
       "(42.16014406183979, 57.83985593816021)"
      ]
     },
     "execution_count": 65,
     "metadata": {},
     "output_type": "execute_result"
    }
   ],
   "source": [
    "stats.norm.interval(0.95,loc=50,scale=40/100**0.5)"
   ]
  },
  {
   "cell_type": "code",
   "execution_count": 66,
   "id": "db1f7dd9",
   "metadata": {},
   "outputs": [
    {
     "data": {
      "text/plain": [
       "(43.411026006941775, 56.588973993058225)"
      ]
     },
     "execution_count": 66,
     "metadata": {},
     "output_type": "execute_result"
    }
   ],
   "source": [
    "stats.t.interval(0.95,143,loc=50,scale=40/144**0.5)"
   ]
  },
  {
   "cell_type": "code",
   "execution_count": 67,
   "id": "6ef74ff9",
   "metadata": {},
   "outputs": [
    {
     "data": {
      "text/plain": [
       "(43.54636798622735, 56.45363201377265)"
      ]
     },
     "execution_count": 67,
     "metadata": {},
     "output_type": "execute_result"
    }
   ],
   "source": [
    "stats.t.interval(0.95,149,loc=50,scale=40/150**0.5)"
   ]
  },
  {
   "cell_type": "code",
   "execution_count": 68,
   "id": "dffe316e",
   "metadata": {},
   "outputs": [
    {
     "data": {
      "text/plain": [
       "(44.36513128209762, 55.63486871790238)"
      ]
     },
     "execution_count": 68,
     "metadata": {},
     "output_type": "execute_result"
    }
   ],
   "source": [
    "stats.t.interval(0.95,195,loc=50,scale=40/196**0.5)"
   ]
  },
  {
   "cell_type": "code",
   "execution_count": 69,
   "id": "13363464",
   "metadata": {},
   "outputs": [
    {
     "data": {
      "text/plain": [
       "(45.01742205006828, 54.98257794993172)"
      ]
     },
     "execution_count": 69,
     "metadata": {},
     "output_type": "execute_result"
    }
   ],
   "source": [
    "stats.t.interval(0.95,249,loc=50,scale=40/250**0.5)"
   ]
  },
  {
   "cell_type": "markdown",
   "id": "eb35bdd4",
   "metadata": {},
   "source": [
    "Minimum number of transaction needed are 250 as it ensures that there is 95% probability \n",
    "that lies in range of 45 to 55 or 5% chance of investigation."
   ]
  },
  {
   "cell_type": "code",
   "execution_count": 70,
   "id": "c1d5383b",
   "metadata": {},
   "outputs": [
    {
     "data": {
      "text/plain": [
       "0.9507896016013059"
      ]
     },
     "execution_count": 70,
     "metadata": {},
     "output_type": "execute_result"
    }
   ],
   "source": [
    "stats.t.cdf(55,249,loc=50,scale=40/250**0.5)-stats.t.cdf(45,249,loc=50,scale=40/250**0.5)"
   ]
  }
 ],
 "metadata": {
  "kernelspec": {
   "display_name": "Python 3 (ipykernel)",
   "language": "python",
   "name": "python3"
  },
  "language_info": {
   "codemirror_mode": {
    "name": "ipython",
    "version": 3
   },
   "file_extension": ".py",
   "mimetype": "text/x-python",
   "name": "python",
   "nbconvert_exporter": "python",
   "pygments_lexer": "ipython3",
   "version": "3.9.13"
  }
 },
 "nbformat": 4,
 "nbformat_minor": 5
}
